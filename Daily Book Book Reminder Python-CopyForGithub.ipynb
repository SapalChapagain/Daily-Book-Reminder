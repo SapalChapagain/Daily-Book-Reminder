{
 "cells": [
  {
   "cell_type": "code",
   "execution_count": 1,
   "id": "3f625719",
   "metadata": {},
   "outputs": [],
   "source": [
    "#importing relevant libraries\n",
    "import pandas as pd \n",
    "import numpy as np \n",
    "import random\n",
    "import smtplib\n",
    "import ssl\n",
    "from email.message import EmailMessage\n",
    "\n",
    "#Importing excel file \n",
    "QuoteTrackerDF = pd.read_excel(\"Daily Book Reminder Quotes Tracker.xlsx\") #This is my file name but yours might be different\n",
    "\n",
    "#Setting up variables\n",
    "randombookindex = random.randint(0,len(QuoteTrackerDF.index) - 1)\n",
    "email_sender = 'senderemail@email.com' #Fake email for safety reasons\n",
    "email_password = 'yourpassword' #Fake password put for safety reasons\n",
    "email_receiver = 'youremail@email.com'#Fake email for safety reasons\n",
    "subject = '*Daily Book Reminder*'\n",
    "body = \"The Quote of the day is: \" + QuoteTrackerDF.transpose()[randombookindex][\"Quote\"] + \" from the book: \" + QuoteTrackerDF.transpose()[randombookindex][\"Book\"]\n",
    "\n",
    "#Add SSL\n",
    "context = ssl.create_default_context()\n",
    "\n",
    "\n",
    "#Instantiating the EmailMessage class\n",
    "\n",
    "em = EmailMessage()\n",
    "em['From'] = email_sender\n",
    "em['To'] = email_receiver\n",
    "em['Subject'] = subject\n",
    "em.set_content(body)\n",
    "\n",
    "with smtplib.SMTP_SSL('smtp.gmail.com', 465, context=context) as smtp:\n",
    "    smtp.login(email_sender, email_password)\n",
    "    smtp.sendmail(email_sender, email_receiver, em.as_string())\n",
    "    \n",
    "#Must be put on a daily run schedule using windows task scheduler     "
   ]
  }
 ],
 "metadata": {
  "kernelspec": {
   "display_name": "Python 3 (ipykernel)",
   "language": "python",
   "name": "python3"
  },
  "language_info": {
   "codemirror_mode": {
    "name": "ipython",
    "version": 3
   },
   "file_extension": ".py",
   "mimetype": "text/x-python",
   "name": "python",
   "nbconvert_exporter": "python",
   "pygments_lexer": "ipython3",
   "version": "3.9.7"
  }
 },
 "nbformat": 4,
 "nbformat_minor": 5
}
